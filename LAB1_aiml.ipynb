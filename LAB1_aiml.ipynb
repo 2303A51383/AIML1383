{
  "nbformat": 4,
  "nbformat_minor": 0,
  "metadata": {
    "colab": {
      "provenance": [],
      "authorship_tag": "ABX9TyNI8KcRgak9eb81bm5O6tSn",
      "include_colab_link": true
    },
    "kernelspec": {
      "name": "python3",
      "display_name": "Python 3"
    },
    "language_info": {
      "name": "python"
    }
  },
  "cells": [
    {
      "cell_type": "markdown",
      "metadata": {
        "id": "view-in-github",
        "colab_type": "text"
      },
      "source": [
        "<a href=\"https://colab.research.google.com/github/2303A51383/AIML1383/blob/main/LAB1_aiml.ipynb\" target=\"_parent\"><img src=\"https://colab.research.google.com/assets/colab-badge.svg\" alt=\"Open In Colab\"/></a>"
      ]
    },
    {
      "cell_type": "code",
      "execution_count": null,
      "metadata": {
        "id": "TbZlGLSXFslU"
      },
      "outputs": [],
      "source": [
        "import numpy as np\n",
        "list1=[1,2,3]\n",
        "array1=np.array(list1)\n",
        "array1\n"
      ]
    },
    {
      "cell_type": "code",
      "source": [
        "from google.colab import drive\n",
        "drive.mount('/content/drive')"
      ],
      "metadata": {
        "id": "wxABaEcWGIeM"
      },
      "execution_count": null,
      "outputs": []
    },
    {
      "cell_type": "code",
      "source": [
        "type(list1)"
      ],
      "metadata": {
        "id": "w6IjGvIKGON1"
      },
      "execution_count": null,
      "outputs": []
    },
    {
      "cell_type": "code",
      "source": [
        "array2=np.array([2,3,4])\n",
        "array2"
      ],
      "metadata": {
        "id": "p41kbqJ5GR_0"
      },
      "execution_count": null,
      "outputs": []
    },
    {
      "cell_type": "code",
      "source": [
        "print(\"adding {array1} and {array2}\",array1+array2)"
      ],
      "metadata": {
        "id": "q4Zl5JzbGWN5"
      },
      "execution_count": null,
      "outputs": []
    },
    {
      "cell_type": "code",
      "source": [
        "np.power(array1,array2)"
      ],
      "metadata": {
        "id": "ZXY8zL8NGW_y"
      },
      "execution_count": null,
      "outputs": []
    },
    {
      "cell_type": "code",
      "source": [
        "print(\"multiplication of {array1} and {array2} is \" ,array1*array2)"
      ],
      "metadata": {
        "id": "QU0IdDb6GasP"
      },
      "execution_count": null,
      "outputs": []
    },
    {
      "cell_type": "code",
      "source": [
        "people= [\"prgg\",\"vvr\", \"ram\",\"funny\",\"sweety\"]\n",
        "age=[16,38,40,15,18]\n",
        "weight=[42,50,60,40,40]\n",
        "height=[100,101,102,103,105]"
      ],
      "metadata": {
        "id": "0plJL8zMGfMU"
      },
      "execution_count": null,
      "outputs": []
    },
    {
      "cell_type": "code",
      "source": [
        "import matplotlib.pyplot as plt"
      ],
      "metadata": {
        "id": "9GRT8YoYGhne"
      },
      "execution_count": null,
      "outputs": []
    },
    {
      "cell_type": "code",
      "source": [
        "plt.scatter(weight,height)\n",
        "plt.title(\"relationship between weight and height of people\")\n",
        "plt.ylabel(\"height in meters\")\n",
        "plt.xlabel(\"weight of people\")\n",
        "plt.show()"
      ],
      "metadata": {
        "id": "vg8j7brpGj6C"
      },
      "execution_count": null,
      "outputs": []
    },
    {
      "cell_type": "code",
      "source": [
        "plt.figure(figsize=(5,4))\n",
        "plt.title(\"people's weight in kgs\", fontsize=16, fontstyle='italic')\n",
        "plt.bar(x=people,height=weight, width=0.5,color='orange',edgecolor='k', alpha=0.6)\n",
        "plt.xlabel(\"people\",fontsize=20)\n",
        "plt.ylabel(\"weight {in kgs}\", fontsize=15)\n",
        "plt.show()"
      ],
      "metadata": {
        "id": "xPLtLfxUGpTu"
      },
      "execution_count": null,
      "outputs": []
    }
  ]
}