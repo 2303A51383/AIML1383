{
  "nbformat": 4,
  "nbformat_minor": 0,
  "metadata": {
    "colab": {
      "provenance": [],
      "authorship_tag": "ABX9TyNhW4mHYsJITNtpoAn+2d5Q",
      "include_colab_link": true
    },
    "kernelspec": {
      "name": "python3",
      "display_name": "Python 3"
    },
    "language_info": {
      "name": "python"
    }
  },
  "cells": [
    {
      "cell_type": "markdown",
      "metadata": {
        "id": "view-in-github",
        "colab_type": "text"
      },
      "source": [
        "<a href=\"https://colab.research.google.com/github/2303A51383/AIML1383/blob/main/2303A51383__06.ipynb\" target=\"_parent\"><img src=\"https://colab.research.google.com/assets/colab-badge.svg\" alt=\"Open In Colab\"/></a>"
      ]
    },
    {
      "cell_type": "markdown",
      "source": [
        "Predication of Room Occupancy Estimation\n",
        "\n",
        "Identify the max and main sound , light values liked by most customers?\n",
        "Identify the date and time when room occupancy was the most?\n",
        "Predict the temperature most suitable for most room occupancy?\n",
        "What levels of CO2 is suitable and not suitable for room occupancy?\n",
        "Does motion sensors contribute to increase or decrease of in room occupancy?"
      ],
      "metadata": {
        "id": "Kk6PevNA2yGo"
      }
    },
    {
      "cell_type": "code",
      "source": [
        "import pandas as pd\n",
        "\n",
        "file_path = '/content/Occupancy_Estimation[1].csv'\n",
        "data = pd.read_csv(file_path)\n",
        "\n",
        "\n",
        "occupancy_groups = data.groupby(\"Room_Occupancy_Count\")\n",
        "\n",
        "\n",
        "avg_sound_light = occupancy_groups[[\"S1_Sound\", \"S2_Sound\", \"S3_Sound\", \"S4_Sound\",\n",
        "                                    \"S1_Light\", \"S2_Light\", \"S3_Light\", \"S4_Light\"]].mean()\n",
        "\n",
        "\n",
        "                                    most_common_occupancy = data[\"Room_Occupancy_Count\"].mode()[0]\n",
        "                                    most_common_sound_light = avg_sound_light.loc[most_common_occupancy]\n",
        "\n",
        "                                    print(\"Most common occupancy level:\", most_common_occupancy)\n",
        "                                    print(\"Sound and light levels during this occupancy:\")\n",
        "                                    print(most_common_sound_light)\n",
        "\n",
        "\n",
        "                                    max_occupancy_row = data.loc[data[\"Room_Occupancy_Count\"].idxmax()]\n",
        "                                    max_occupancy_date = max_occupancy_row[\"Date\"]\n",
        "                                    max_occupancy_time = max_occupancy_row[\"Time\"]\n",
        "                                    max_occupancy_count = max_occupancy_row[\"Room_Occupancy_Count\"]\n",
        "\n",
        "                                    print(\"\\nHighest room occupancy count:\", max_occupancy_count)\n",
        "                                    print(\"Occurred on:\", max_occupancy_date, \"at\", max_occupancy_time)\n",
        "\n",
        "\n",
        "                                    high_occupancy = data[data[\"Room_Occupancy_Count\"] > 0]\n",
        "                                    avg_temp_high_occupancy = high_occupancy[[\"S1_Temp\", \"S2_Temp\", \"S3_Temp\", \"S4_Temp\"]].mean()\n",
        "                                    preferred_temp = avg_temp_high_occupancy.mean()\n",
        "\n",
        "                                    print(\"\\nAverage temperatures for high occupancy:\")\n",
        "                                    print(avg_temp_high_occupancy)\n",
        "                                    print(\"Overall preferred temperature:\", preferred_temp)\n",
        "\n",
        "\n",
        "                                    avg_co2_by_occupancy = occupancy_groups[\"S5_CO2\"].mean()\n",
        "                                    print(\"\\nAverage CO2 levels by occupancy:\")\n",
        "                                    print(avg_co2_by_occupancy)\n",
        "\n",
        "\n",
        "                                    motion_sensor_corr = data[[\"Room_Occupancy_Count\", \"S6_PIR\", \"S7_PIR\"]].corr()\n",
        "                                    motion_sensor_contribution = motion_sensor_corr.loc[\"Room_Occupancy_Count\", [\"S6_PIR\", \"S7_PIR\"]]\n",
        "\n",
        "                                    print(\"\\nCorrelation between motion sensors and occupancy:\")\n",
        "                                    print(motion_sensor_contribution)"
      ],
      "metadata": {
        "id": "D1RJxSHr2zh8"
      },
      "execution_count": null,
      "outputs": []
    }
  ]
}